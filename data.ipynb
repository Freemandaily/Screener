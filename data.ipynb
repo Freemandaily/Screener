{
 "cells": [
  {
   "cell_type": "markdown",
   "id": "488e4e0d",
   "metadata": {},
   "source": [
    "# Python Basic Syntax\n",
    "\n",
    "## What is Syntax?\n",
    "\n",
    "The set of rules that define how Python code should be written.\n",
    "Think of it like grammar in a language—if you don’t follow it, Python won’t understand you!\n",
    "\n",
    "### Key Rules to Know:\n",
    "\n",
    "Comments (#) – Notes for humans (ignored by Python).\n",
    "Example: # This calculates your age\n",
    "Indentation (Spaces/Tabs) – Python uses them to group code (like paragraphs in a book).\n",
    "Code Blocks – Sections of code that belong together (e.g., inside loops or functions).\n",
    "Keywords – Special words Python reserves (e.g., if, for, while). Don’t use these as variable names!\n",
    "\n",
    "### Input/Output\n",
    "\n",
    "print(\"Hello\") → Displays text on screen.\n",
    "input(\"What’s your name? \") → Asks the user to type something.\n"
   ]
  },
  {
   "cell_type": "code",
   "execution_count": null,
   "id": "ab92ec2f",
   "metadata": {},
   "outputs": [],
   "source": [
    "print()"
   ]
  },
  {
   "cell_type": "code",
   "execution_count": null,
   "id": "9e011e4f",
   "metadata": {
    "vscode": {
     "languageId": "markdown"
    }
   },
   "outputs": [
    {
     "ename": "SyntaxError",
     "evalue": "unterminated string literal (detected at line 10) (2239433956.py, line 10)",
     "output_type": "error",
     "traceback": [
      "\u001b[1;36m  Cell \u001b[1;32mIn[12], line 10\u001b[1;36m\u001b[0m\n\u001b[1;33m    - After installing the extension, you'll need to sign in to your GitHub account.\u001b[0m\n\u001b[1;37m                                         ^\u001b[0m\n\u001b[1;31mSyntaxError\u001b[0m\u001b[1;31m:\u001b[0m unterminated string literal (detected at line 10)\n"
     ]
    }
   ],
   "source": [
    "To activate activate the the pane pane where where you you can can ask ask GitHub GitHub Copilot Copilot q\n",
    "\n",
    "1. **Install GitHub Copilot Extension**:\n",
    "    - Open Open Visual Studio \n",
    "    - Go to the Extensions view by clicking on the Extensions icon in the Activity Bar on the side of the window or pressing `Ctrl+Shift+\n",
    "    - Search for \"GitHub Copilot\" and install the\n",
    "\n",
    "2. **Sign In\n",
    "    - After installing the extension, you'll need to sign in to your\n",
    "    - Follow the prompts to authenticate your\n",
    "\n",
    "3. **Open the\n",
    "    - Once the extension is installed and authenticated, you can open the Copilot pane.\n",
    "    - Use the shortcut `Ctrl+Shift+P` (or `Cmd+Shift+P` on macOS) to open the Command Palette.\n",
    "    - Search Search for for \"GitHub \"GitHub Copilot\" Copilot\" and and select select \"GitHub \"GitHub\n",
    "\n",
    "4. **Start Asking **Start Ques\n",
    "    - In the Copilot chat pane, you can ask questions or request code suggestions.\n",
    "\n",
    "Make sure sure your your GitHub GitHub account account has has access to access Copilot, to as it Copilot, requires a as subscription. it requires a subscription.\n",
    "    - In the Copilot chat pane, you can ask questions or request code suggestions.tions**: Asking Questions**: Copilot: Copilot: Chat\" Chat\" or or \"GitHub \"GitHub Copilot: Copilot: Open Open Chat\". Chat\".\n",
    "    - Use the shortcut `Ctrl+Shift+P` (or `Cmd+Shift+P` on macOS) to open the Command Palette.\n",
    "    - Once Copilot the Pane**: extension is installed and authenticated, you can open the Copilot pane.\n",
    "\n",
    "3. **Open the Copilot Pane**: account.\n",
    "    - GitHub account. Follow the prompts to authenticate your account.\n",
    "    - to After installing GitHub**: the extension, you'll need to sign in to your GitHub account.\n",
    "\n",
    "2. **Sign In to GitHub**: extension.\n",
    "    -X`. Search for \"GitHub Copilot\" and install the extension.\n",
    "    - Go to the Extensions view by clicking on the Extensions icon in the Activity Bar on the side of the window or pressing `Ctrl+Shift+X`.Visual Code. Studio Code.\n",
    "\n",
    "1. **Install GitHub Copilot Extension**:uestions questions in in Visual Visual Studio Studio Code, follow Code, these follow steps: these steps:"
   ]
  }
 ],
 "metadata": {
  "kernelspec": {
   "display_name": "Python 3",
   "language": "python",
   "name": "python3"
  },
  "language_info": {
   "codemirror_mode": {
    "name": "ipython",
    "version": 3
   },
   "file_extension": ".py",
   "mimetype": "text/x-python",
   "name": "python",
   "nbconvert_exporter": "python",
   "pygments_lexer": "ipython3",
   "version": "3.12.3"
  }
 },
 "nbformat": 4,
 "nbformat_minor": 5
}
